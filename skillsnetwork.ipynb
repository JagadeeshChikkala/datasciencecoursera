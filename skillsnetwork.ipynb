{
 "cells": [
  {
   "cell_type": "markdown",
   "id": "df347fe0-ec39-4d71-aeb9-ce5a0b3efe48",
   "metadata": {},
   "source": [
    "# My Jupyter Notebook on IBM Watson Studio"
   ]
  },
  {
   "cell_type": "markdown",
   "id": "868bb42b-0d3e-4546-b5c4-f36934d7d0a8",
   "metadata": {},
   "source": [
    "**Chikkala Jagadeesh**\n",
    "<br>\n",
    "good programmer"
   ]
  },
  {
   "cell_type": "markdown",
   "id": "dfcdf1e3-bd7e-4566-9271-4440883573bc",
   "metadata": {},
   "source": [
    "*i want to explore digital world and invent new things*"
   ]
  },
  {
   "cell_type": "code",
   "execution_count": 2,
   "id": "40eec4b7-68bf-41b8-a815-8f3de37caf80",
   "metadata": {},
   "outputs": [
    {
     "name": "stdout",
     "output_type": "stream",
     "text": [
      "True\n"
     ]
    }
   ],
   "source": [
    "for i in range(10):\n",
    "    if(i==5):\n",
    "        print(True)"
   ]
  },
  {
   "cell_type": "markdown",
   "id": "1577ca7f-9d98-4f58-a13d-f137703cb7a6",
   "metadata": {},
   "source": [
    "* a\n",
    "* b\n",
    "* c\n",
    "* d\n",
    "<br>\n",
    "\n",
    "[coursera.org](coursera.org)\n",
    "\n",
    "<br>\n",
    "<img src=\"C://Users//jagad//Desktop//IBM DataScince//wp6027938.png\">\n",
    "\n"
   ]
  },
  {
   "cell_type": "code",
   "execution_count": null,
   "id": "ad48b92f-e7c8-421c-b5f4-61b913f518d7",
   "metadata": {},
   "outputs": [],
   "source": []
  }
 ],
 "metadata": {
  "kernelspec": {
   "display_name": "Python 3 (ipykernel)",
   "language": "python",
   "name": "python3"
  },
  "language_info": {
   "codemirror_mode": {
    "name": "ipython",
    "version": 3
   },
   "file_extension": ".py",
   "mimetype": "text/x-python",
   "name": "python",
   "nbconvert_exporter": "python",
   "pygments_lexer": "ipython3",
   "version": "3.8.7"
  }
 },
 "nbformat": 4,
 "nbformat_minor": 5
}
